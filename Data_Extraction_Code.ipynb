{
 "cells": [
  {
   "cell_type": "code",
   "execution_count": 33,
   "metadata": {},
   "outputs": [
    {
     "name": "stdout",
     "output_type": "stream",
     "text": [
      "Requirement already satisfied: snscrape in /Users/aasthapatel/opt/anaconda3/lib/python3.7/site-packages (0.3.4)\n",
      "Requirement already satisfied: beautifulsoup4 in /Users/aasthapatel/opt/anaconda3/lib/python3.7/site-packages (from snscrape) (4.8.2)\n",
      "Requirement already satisfied: requests[socks] in /Users/aasthapatel/opt/anaconda3/lib/python3.7/site-packages (from snscrape) (2.22.0)\n",
      "Requirement already satisfied: lxml in /Users/aasthapatel/opt/anaconda3/lib/python3.7/site-packages (from snscrape) (4.5.0)\n",
      "Requirement already satisfied: soupsieve>=1.2 in /Users/aasthapatel/opt/anaconda3/lib/python3.7/site-packages (from beautifulsoup4->snscrape) (1.9.5)\n",
      "Requirement already satisfied: urllib3!=1.25.0,!=1.25.1,<1.26,>=1.21.1 in /Users/aasthapatel/opt/anaconda3/lib/python3.7/site-packages (from requests[socks]->snscrape) (1.25.8)\n",
      "Requirement already satisfied: certifi>=2017.4.17 in /Users/aasthapatel/opt/anaconda3/lib/python3.7/site-packages (from requests[socks]->snscrape) (2019.11.28)\n",
      "Requirement already satisfied: idna<2.9,>=2.5 in /Users/aasthapatel/opt/anaconda3/lib/python3.7/site-packages (from requests[socks]->snscrape) (2.8)\n",
      "Requirement already satisfied: chardet<3.1.0,>=3.0.2 in /Users/aasthapatel/opt/anaconda3/lib/python3.7/site-packages (from requests[socks]->snscrape) (3.0.4)\n",
      "Requirement already satisfied: PySocks!=1.5.7,>=1.5.6; extra == \"socks\" in /Users/aasthapatel/opt/anaconda3/lib/python3.7/site-packages (from requests[socks]->snscrape) (1.7.1)\n",
      "Note: you may need to restart the kernel to use updated packages.\n"
     ]
    }
   ],
   "source": [
    "pip install snscrape"
   ]
  },
  {
   "cell_type": "code",
   "execution_count": 1,
   "metadata": {},
   "outputs": [],
   "source": [
    "# Imports\n",
    "import snscrape.modules.twitter as sntwitter\n",
    "import pandas as pd"
   ]
  },
  {
   "cell_type": "code",
   "execution_count": 2,
   "metadata": {},
   "outputs": [
    {
     "data": {
      "text/html": [
       "<div>\n",
       "<style scoped>\n",
       "    .dataframe tbody tr th:only-of-type {\n",
       "        vertical-align: middle;\n",
       "    }\n",
       "\n",
       "    .dataframe tbody tr th {\n",
       "        vertical-align: top;\n",
       "    }\n",
       "\n",
       "    .dataframe thead th {\n",
       "        text-align: right;\n",
       "    }\n",
       "</style>\n",
       "<table border=\"1\" class=\"dataframe\">\n",
       "  <thead>\n",
       "    <tr style=\"text-align: right;\">\n",
       "      <th></th>\n",
       "      <th>Datetime</th>\n",
       "      <th>Tweet Id</th>\n",
       "      <th>Text</th>\n",
       "      <th>Username</th>\n",
       "    </tr>\n",
       "  </thead>\n",
       "  <tbody>\n",
       "    <tr>\n",
       "      <th>0</th>\n",
       "      <td>2022-10-12 14:00:06+00:00</td>\n",
       "      <td>1580196615171678208</td>\n",
       "      <td>SAC Kristen de Tineo leads @ATF_Chicago which ...</td>\n",
       "      <td>ATFHQ</td>\n",
       "    </tr>\n",
       "    <tr>\n",
       "      <th>1</th>\n",
       "      <td>2022-10-09 15:37:47+00:00</td>\n",
       "      <td>1579134034328051713</td>\n",
       "      <td>@thom_m_w @Deirdre_Lehner Sorry, that’s just f...</td>\n",
       "      <td>RandyAlberhasky</td>\n",
       "    </tr>\n",
       "    <tr>\n",
       "      <th>2</th>\n",
       "      <td>2022-10-06 15:19:17+00:00</td>\n",
       "      <td>1578042215569522694</td>\n",
       "      <td>@Shadowrunner714 @WEF_infowarrior @connie_nyc ...</td>\n",
       "      <td>Bohlhet</td>\n",
       "    </tr>\n",
       "    <tr>\n",
       "      <th>3</th>\n",
       "      <td>2022-10-06 02:17:35+00:00</td>\n",
       "      <td>1577845495728324609</td>\n",
       "      <td>@Statinghealer63 @Hewhoishere @nytmare72 @davi...</td>\n",
       "      <td>MichaelAries9</td>\n",
       "    </tr>\n",
       "    <tr>\n",
       "      <th>4</th>\n",
       "      <td>2022-10-04 23:00:48+00:00</td>\n",
       "      <td>1577433585119682560</td>\n",
       "      <td>@KevinGromley @johnsonstickk @guntruth @AlexBW...</td>\n",
       "      <td>MichaelAries9</td>\n",
       "    </tr>\n",
       "  </tbody>\n",
       "</table>\n",
       "</div>"
      ],
      "text/plain": [
       "                   Datetime             Tweet Id  \\\n",
       "0 2022-10-12 14:00:06+00:00  1580196615171678208   \n",
       "1 2022-10-09 15:37:47+00:00  1579134034328051713   \n",
       "2 2022-10-06 15:19:17+00:00  1578042215569522694   \n",
       "3 2022-10-06 02:17:35+00:00  1577845495728324609   \n",
       "4 2022-10-04 23:00:48+00:00  1577433585119682560   \n",
       "\n",
       "                                                Text         Username  \n",
       "0  SAC Kristen de Tineo leads @ATF_Chicago which ...            ATFHQ  \n",
       "1  @thom_m_w @Deirdre_Lehner Sorry, that’s just f...  RandyAlberhasky  \n",
       "2  @Shadowrunner714 @WEF_infowarrior @connie_nyc ...          Bohlhet  \n",
       "3  @Statinghealer63 @Hewhoishere @nytmare72 @davi...    MichaelAries9  \n",
       "4  @KevinGromley @johnsonstickk @guntruth @AlexBW...    MichaelAries9  "
      ]
     },
     "execution_count": 2,
     "metadata": {},
     "output_type": "execute_result"
    }
   ],
   "source": [
    "# Query by text search\n",
    "# Setting variables to be used below\n",
    "maxTweets = 10000\n",
    "\n",
    "# Creating list to append tweet data to\n",
    "tweets_list2 = []\n",
    "\n",
    "# Using TwitterSearchScraper to scrape data and append tweets to list\n",
    "for i,tweet in enumerate(sntwitter.TwitterSearchScraper('Gun crime indiana since:2022-01-01 until:2022-10-15').get_items()):\n",
    "    if i>maxTweets:\n",
    "        break\n",
    "    tweets_list2.append([tweet.date, tweet.id, tweet.content, tweet.username])\n",
    "\n",
    "# Creating a dataframe from the tweets list above\n",
    "tweets_df2 = pd.DataFrame(tweets_list2, columns=['Datetime', 'Tweet Id', 'Text', 'Username'])\n",
    "\n",
    "# Display first 5 entries from dataframe\n",
    "tweets_df2.head()\n"
   ]
  },
  {
   "cell_type": "code",
   "execution_count": 3,
   "metadata": {},
   "outputs": [],
   "source": [
    "# Export dataframe into a CSV\n",
    "tweets_df2.to_csv('Gun_Crime.csv', sep=',', index=False)"
   ]
  },
  {
   "cell_type": "markdown",
   "metadata": {},
   "source": [
    "#### Reference:\n",
    "https://betterprogramming.pub/how-to-scrape-tweets-with-snscrape-90124ed006af"
   ]
  },
  {
   "cell_type": "code",
   "execution_count": null,
   "metadata": {},
   "outputs": [],
   "source": []
  }
 ],
 "metadata": {
  "kernelspec": {
   "display_name": "Python 3",
   "language": "python",
   "name": "python3"
  },
  "language_info": {
   "codemirror_mode": {
    "name": "ipython",
    "version": 3
   },
   "file_extension": ".py",
   "mimetype": "text/x-python",
   "name": "python",
   "nbconvert_exporter": "python",
   "pygments_lexer": "ipython3",
   "version": "3.7.6"
  }
 },
 "nbformat": 4,
 "nbformat_minor": 4
}
